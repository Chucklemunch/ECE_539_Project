{
 "cells": [
  {
   "cell_type": "code",
   "execution_count": 11,
   "id": "1504d98a",
   "metadata": {},
   "outputs": [],
   "source": [
    "from ucimlrepo import fetch_ucirepo \n",
    "import pandas as pd\n",
    "import torch\n",
    "import numpy as np"
   ]
  },
  {
   "cell_type": "code",
   "execution_count": 18,
   "id": "16e4b17d",
   "metadata": {},
   "outputs": [],
   "source": [
    "  # fetch dataset \n",
    "cdc_diabetes_health_indicators = fetch_ucirepo(id=891) \n",
    "  \n",
    "# data (as pandas dataframes) \n",
    "X_dataframe = cdc_diabetes_health_indicators.data.features \n",
    "y_dataframe = cdc_diabetes_health_indicators.data.targets \n",
    "  \n",
    "# metadata \n",
    "# print(cdc_diabetes_health_indicators.metadata) \n",
    "  \n",
    "# variable information \n",
    "# print(cdc_diabetes_health_indicators.variables) \n",
    "# print(X.shape, y.shape)"
   ]
  },
  {
   "cell_type": "code",
   "execution_count": 21,
   "id": "f664478f",
   "metadata": {},
   "outputs": [
    {
     "name": "stdout",
     "output_type": "stream",
     "text": [
      "<class 'torch.Tensor'> <class 'torch.Tensor'>\n",
      "torch.Size([253680, 21]) torch.Size([253680, 1])\n"
     ]
    }
   ],
   "source": [
    "# Converting DataFrames to Pytorch tensors... because who wants to learn Pandas right now?\n",
    "X = torch.from_numpy(X_dataframe.to_numpy()) \n",
    "y = torch.from_numpy(y_dataframe.to_numpy())\n",
    "\n",
    "print(type(X), type(y))\n",
    "print(X.shape, y.shape)"
   ]
  }
 ],
 "metadata": {
  "kernelspec": {
   "display_name": "Python 3 (ipykernel)",
   "language": "python",
   "name": "python3"
  },
  "language_info": {
   "codemirror_mode": {
    "name": "ipython",
    "version": 3
   },
   "file_extension": ".py",
   "mimetype": "text/x-python",
   "name": "python",
   "nbconvert_exporter": "python",
   "pygments_lexer": "ipython3",
   "version": "3.10.6"
  }
 },
 "nbformat": 4,
 "nbformat_minor": 5
}
